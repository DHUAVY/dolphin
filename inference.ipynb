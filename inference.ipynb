{
 "cells": [
  {
   "attachments": {},
   "cell_type": "markdown",
   "metadata": {},
   "source": [
    "## Video Understanding"
   ]
  },
  {
   "cell_type": "code",
   "execution_count": null,
   "metadata": {},
   "outputs": [],
   "source": [
    "from modules.mplug import VideoCaptioning\n",
    "\n",
    "tool_vc = VideoCaptioning(\"cuda:2\")\n",
    "video_captioning = tool_vc.inference"
   ]
  },
  {
   "cell_type": "code",
   "execution_count": null,
   "metadata": {},
   "outputs": [],
   "source": [
    "from modules.blip import ImageCaptioning\n",
    "\n",
    "tool_blip2 = ImageCaptioning(\"cuda:2\")\n",
    "frames_captioning = tool_blip2.inference"
   ]
  },
  {
   "attachments": {},
   "cell_type": "markdown",
   "metadata": {},
   "source": [
    "## Video Processing (MoviePy)"
   ]
  },
  {
   "cell_type": "code",
   "execution_count": null,
   "metadata": {},
   "outputs": [],
   "source": [
    "from modules.video_moviepy import MoviepyInterface\n",
    "\n",
    "movie_interface = MoviepyInterface()\n",
    "video_subclip = movie_interface.intercept_fragments # video_path, begin, end\n",
    "add_subtitles = movie_interface.add_subtitles # video_path, start_time, duration, instruct_text\n",
    "concat_videos = movie_interface.concat_videos # video_path1, video_path2...\n",
    "video_overlay = movie_interface.video_overlay # video_path1, video_path2...\n",
    "extract_audio = movie_interface.extract_audio # video_path\n",
    "add_audio_to_video = movie_interface.add_audio_to_video # video_path, audio_path"
   ]
  },
  {
   "attachments": {},
   "cell_type": "markdown",
   "metadata": {},
   "source": [
    "## Video Generation"
   ]
  },
  {
   "cell_type": "code",
   "execution_count": null,
   "metadata": {},
   "outputs": [],
   "source": [
    "from modules.modelscope_t2v import ModelscopeT2V\n",
    "\n",
    "mst2v = ModelscopeT2V(\"cuda:3\")\n",
    "text2video = mst2v.inference"
   ]
  },
  {
   "cell_type": "code",
   "execution_count": null,
   "metadata": {},
   "outputs": [],
   "source": [
    "from modules.annotator import Video2Canny, Video2Pose, Video2Depth\n",
    "\n",
    "tool_v2c = Video2Canny()\n",
    "tool_v2p = Video2Pose(\"cuda:7\")\n",
    "tool_v2d = Video2Depth(\"cuda:7\")\n",
    "\n",
    "video2canny = tool_v2c.inference\n",
    "video2pose = tool_v2p.inference\n",
    "video2depth = tool_v2d.inference"
   ]
  },
  {
   "cell_type": "code",
   "execution_count": null,
   "metadata": {},
   "outputs": [],
   "source": [
    "from modules.text2video_zero import CannyText2Video, PoseText2Video, DepthText2Video, VideoPix2Pix\n",
    "\n",
    "pose_text2video = PoseText2Video(\"cuda:3\").inference  # video_path, prompt\n",
    "canny_text2video = CannyText2Video(\"cuda:3\").inference  # video_path, prompt\n",
    "depth_text2video = DepthText2Video(\"cuda:5\").inference  # video_path, prompt\n",
    "video_pix2pix = VideoPix2Pix(\"cuda:5\").inference # video_path, prompt"
   ]
  },
  {
   "attachments": {},
   "cell_type": "markdown",
   "metadata": {},
   "source": [
    "## Audio Generation"
   ]
  },
  {
   "cell_type": "code",
   "execution_count": null,
   "metadata": {},
   "outputs": [],
   "source": [
    "from modules.bark import Text2Audio\n",
    "\n",
    "tool_t2a = Text2Audio()\n",
    "text2audio = tool_t2a.text2audio   # text\n",
    "text2music = tool_t2a.text2music   # text"
   ]
  },
  {
   "attachments": {},
   "cell_type": "markdown",
   "metadata": {},
   "source": [
    "## Experiments"
   ]
  },
  {
   "cell_type": "code",
   "execution_count": null,
   "metadata": {},
   "outputs": [],
   "source": [
    "print(\"./\" + text2video(\"a goldendoodle playing in a park by a lake\"))"
   ]
  },
  {
   "cell_type": "code",
   "execution_count": null,
   "metadata": {},
   "outputs": [],
   "source": []
  }
 ],
 "metadata": {
  "kernelspec": {
   "display_name": "chatvid",
   "language": "python",
   "name": "python3"
  },
  "language_info": {
   "codemirror_mode": {
    "name": "ipython",
    "version": 3
   },
   "file_extension": ".py",
   "mimetype": "text/x-python",
   "name": "python",
   "nbconvert_exporter": "python",
   "pygments_lexer": "ipython3",
   "version": "3.8.16"
  },
  "orig_nbformat": 4
 },
 "nbformat": 4,
 "nbformat_minor": 2
}
